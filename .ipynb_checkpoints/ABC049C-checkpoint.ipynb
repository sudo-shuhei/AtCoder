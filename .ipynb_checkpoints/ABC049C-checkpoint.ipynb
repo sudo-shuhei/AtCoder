{
 "cells": [
  {
   "cell_type": "code",
   "execution_count": null,
   "metadata": {},
   "outputs": [],
   "source": [
    "S=input()\n",
    "n=0\n",
    "#print(S)\n",
    "while S[:]!=S[:n]:\n",
    "    if S[n:n+7]==\"dreamer\" and S[n:n+8]!=\"dreamera\":\n",
    "        n+=7 #dreamer\n",
    "    elif S[n:n+5]==\"dream\":\n",
    "        n+=5 #dream\n",
    "    elif S[n:n+5]==\"erase\" and S[n:n+6]!=\"eraser\":\n",
    "        n+=5 #erase\n",
    "    elif S[n:n+6]==\"eraser\":\n",
    "        n+=6 #eraser\n",
    "    #elif S[:]==S[:n-1]:\n",
    "        #print(\"YES\")\n",
    "        #exit()\n",
    "    else:\n",
    "        print(\"NO\")\n",
    "        exit()\n",
    "else:\n",
    "    print(\"YES\")  #AC"
   ]
  }
 ],
 "metadata": {
  "kernelspec": {
   "display_name": "Python 3",
   "language": "python",
   "name": "python3"
  },
  "language_info": {
   "codemirror_mode": {
    "name": "ipython",
    "version": 3
   },
   "file_extension": ".py",
   "mimetype": "text/x-python",
   "name": "python",
   "nbconvert_exporter": "python",
   "pygments_lexer": "ipython3",
   "version": "3.7.1"
  }
 },
 "nbformat": 4,
 "nbformat_minor": 2
}
