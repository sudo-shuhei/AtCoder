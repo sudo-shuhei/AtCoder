{
 "cells": [
  {
   "cell_type": "code",
   "execution_count": null,
   "metadata": {},
   "outputs": [],
   "source": [
    "S=input()\n",
    "N=len(S)\n",
    "list1=list(map(int,S))\n",
    "ans1=0\n",
    "for i in range(len(list1)):\n",
    "    if i%2==0:\n",
    "        if list1[i]==1:\n",
    "            ans1+=1\n",
    "    elif i%2==1:\n",
    "        if list1[i]==0:\n",
    "            ans1+=1\n",
    "ans2=min(ans1,(N-ans1))\n",
    "print(ans2)\n",
    "#AC"
   ]
  }
 ],
 "metadata": {
  "kernelspec": {
   "display_name": "Python 3",
   "language": "python",
   "name": "python3"
  },
  "language_info": {
   "codemirror_mode": {
    "name": "ipython",
    "version": 3
   },
   "file_extension": ".py",
   "mimetype": "text/x-python",
   "name": "python",
   "nbconvert_exporter": "python",
   "pygments_lexer": "ipython3",
   "version": "3.7.1"
  }
 },
 "nbformat": 4,
 "nbformat_minor": 2
}
