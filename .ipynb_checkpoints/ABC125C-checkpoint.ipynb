{
 "cells": [
  {
   "cell_type": "code",
   "execution_count": null,
   "metadata": {},
   "outputs": [],
   "source": [
    "import fractions\n",
    "from functools import reduce\n",
    "N=int(input())\n",
    "A=list(map(int,input().split()))\n",
    "\n",
    "n=0\n",
    "for i in range(N):\n",
    "    b=A[i]\n",
    "    A.remove(A[i])\n",
    "    #A.insert(i,b)\n",
    "    ans=A[0]\n",
    "    for j in range(N):\n",
    "        ans=fractions.gcd(ans,A[i])\n",
    "    n=max(n,ans)\n",
    "    A.insert(i,b)\n",
    "print(n)\n",
    "\n"
   ]
  }
 ],
 "metadata": {
  "kernelspec": {
   "display_name": "Python 3",
   "language": "python",
   "name": "python3"
  },
  "language_info": {
   "codemirror_mode": {
    "name": "ipython",
    "version": 3
   },
   "file_extension": ".py",
   "mimetype": "text/x-python",
   "name": "python",
   "nbconvert_exporter": "python",
   "pygments_lexer": "ipython3",
   "version": "3.7.1"
  }
 },
 "nbformat": 4,
 "nbformat_minor": 2
}
