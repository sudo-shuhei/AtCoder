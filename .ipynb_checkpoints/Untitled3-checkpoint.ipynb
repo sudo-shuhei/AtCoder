{
 "cells": [
  {
   "cell_type": "code",
   "execution_count": null,
   "metadata": {},
   "outputs": [],
   "source": [
    "N,Y=map(int,input().split())\n",
    "for i in range(N+1):\n",
    "    for j in range(N-i+1):\n",
    "        #print(10000*i+5000*j+1000*(N-i-j)\n",
    "        if 10000*i+5000*j+1000*(N-i-j)==Y:\n",
    "            \n",
    "            a=i\n",
    "            b=j\n",
    "            c=N-(i+j)\n",
    "            #print(str(i)+\" \"+str(j)+\" \"+str(N-(i+j)))\n",
    "            break\n",
    "        else:\n",
    "            a=-1\n",
    "            b=-1\n",
    "            c=-1\n",
    "#print(str(-1)+\" \"+str(-1)+\" \"+str(-1))\n",
    "print(str(a)+\" \"+str(b)+\" \"+str(c))\n",
    "        "
   ]
  }
 ],
 "metadata": {
  "kernelspec": {
   "display_name": "Python 3",
   "language": "python",
   "name": "python3"
  },
  "language_info": {
   "codemirror_mode": {
    "name": "ipython",
    "version": 3
   },
   "file_extension": ".py",
   "mimetype": "text/x-python",
   "name": "python",
   "nbconvert_exporter": "python",
   "pygments_lexer": "ipython3",
   "version": "3.7.1"
  }
 },
 "nbformat": 4,
 "nbformat_minor": 2
}
