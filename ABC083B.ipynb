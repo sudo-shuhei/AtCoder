{
 "cells": [
  {
   "cell_type": "code",
   "execution_count": null,
   "metadata": {},
   "outputs": [],
   "source": [
    "N,A,B=map(int,input().split())\n",
    "#n1=N//10\n",
    "#n2=N%10\n",
    "#n=n1+n2\n",
    "ans=0\n",
    "for i in range(N+1):\n",
    "    if i>=100:\n",
    "        i1=i//100\n",
    "       # i2=(i-100)//10\n",
    "        i3=i%10\n",
    "        j=i1+i3\n",
    "        if j>=A and j<=B:\n",
    "            ans+=i\n",
    "    else:\n",
    "        i1=i//10\n",
    "        i2=i%10\n",
    "        j=i1+i2\n",
    "        if j>=A and j<=B:\n",
    "            ans+=i\n",
    "print(ans)"
   ]
  }
 ],
 "metadata": {
  "kernelspec": {
   "display_name": "Python 3",
   "language": "python",
   "name": "python3"
  },
  "language_info": {
   "codemirror_mode": {
    "name": "ipython",
    "version": 3
   },
   "file_extension": ".py",
   "mimetype": "text/x-python",
   "name": "python",
   "nbconvert_exporter": "python",
   "pygments_lexer": "ipython3",
   "version": "3.7.1"
  }
 },
 "nbformat": 4,
 "nbformat_minor": 2
}
