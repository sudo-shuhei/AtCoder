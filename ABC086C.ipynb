{
 "cells": [
  {
   "cell_type": "code",
   "execution_count": null,
   "metadata": {},
   "outputs": [],
   "source": [
    "N=int(input())\n",
    "list1=[]\n",
    "for i in range(N):\n",
    "    a=list(map(int,input().split()))\n",
    "    list1.append(a)\n",
    "#print(list1)\n",
    "list2=[0]*N\n",
    "t0=0\n",
    "x0=0\n",
    "y0=0\n",
    "\n",
    "for i in range(len(list1)):\n",
    "    t=list1[i][0]-t0\n",
    "    x=list1[i][1]-x0\n",
    "    y=list1[i][2]-y0\n",
    "    if t%2==0:\n",
    "        for j in range(t//2):\n",
    "            if y==(-x)+2j and 0<=x<=2j:\n",
    "                list2[i]=1\n",
    "                break\n",
    "    elif t%2--1:\n",
    "        for j in range((t-1)//2):\n",
    "            if y==(-x)+2j+1 and 0<=x<=2j+1:\n",
    "                list2[i]=1\n",
    "                break\n",
    "    t0=t\n",
    "    x0=x\n",
    "    y0=y\n",
    "if list2==[ 1 for i in range(N)]:\n",
    "    print(\"YES\")\n",
    "else:\n",
    "    print(\"NO\")\n"
   ]
  }
 ],
 "metadata": {
  "kernelspec": {
   "display_name": "Python 3",
   "language": "python",
   "name": "python3"
  },
  "language_info": {
   "codemirror_mode": {
    "name": "ipython",
    "version": 3
   },
   "file_extension": ".py",
   "mimetype": "text/x-python",
   "name": "python",
   "nbconvert_exporter": "python",
   "pygments_lexer": "ipython3",
   "version": "3.7.1"
  }
 },
 "nbformat": 4,
 "nbformat_minor": 2
}
