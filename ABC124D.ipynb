{
 "cells": [
  {
   "cell_type": "code",
   "execution_count": null,
   "metadata": {},
   "outputs": [],
   "source": [
    "N,K=map(int,input().split())\n",
    "S=input()\n",
    "A=[]\n",
    "for i in range(len(S)):\n",
    "    if i==0:\n",
    "        n=0\n",
    "    elif S[i]!=S[i-1]:\n",
    "        A.append(S[n:i])\n",
    "        n=i\n",
    "A.append(S[n:])\n",
    "#print(A)\n",
    "\n",
    "for i in range(len(A)):\n",
    "    B=A\n",
    "    if int(A[i])==0\n",
    "    "
   ]
  }
 ],
 "metadata": {
  "kernelspec": {
   "display_name": "Python 3",
   "language": "python",
   "name": "python3"
  },
  "language_info": {
   "codemirror_mode": {
    "name": "ipython",
    "version": 3
   },
   "file_extension": ".py",
   "mimetype": "text/x-python",
   "name": "python",
   "nbconvert_exporter": "python",
   "pygments_lexer": "ipython3",
   "version": "3.7.1"
  }
 },
 "nbformat": 4,
 "nbformat_minor": 2
}
