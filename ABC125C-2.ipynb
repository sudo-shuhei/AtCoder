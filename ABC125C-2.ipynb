{
 "cells": [
  {
   "cell_type": "code",
   "execution_count": null,
   "metadata": {},
   "outputs": [],
   "source": [
    "import fractions\n",
    "def gcd_list(list1):\n",
    "    ans=list1[0]\n",
    "    for i in range(len(list1)):\n",
    "        ans=fractions.gcd(ans,list1[i])\n",
    "    return ans\n",
    "N=int(input())\n",
    "A=list(map(int,input().split()))\n",
    "n=0\n",
    "for i in range(N):\n",
    "    b=A[i]\n",
    "    A.remove(A[i])\n",
    "    m=gcd_list(A)\n",
    "    n=max(n,m)\n",
    "    A.insert(i,b)\n",
    "print(n)"
   ]
  }
 ],
 "metadata": {
  "kernelspec": {
   "display_name": "Python 3",
   "language": "python",
   "name": "python3"
  },
  "language_info": {
   "codemirror_mode": {
    "name": "ipython",
    "version": 3
   },
   "file_extension": ".py",
   "mimetype": "text/x-python",
   "name": "python",
   "nbconvert_exporter": "python",
   "pygments_lexer": "ipython3",
   "version": "3.7.1"
  }
 },
 "nbformat": 4,
 "nbformat_minor": 2
}
