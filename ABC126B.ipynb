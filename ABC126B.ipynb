{
 "cells": [
  {
   "cell_type": "code",
   "execution_count": null,
   "metadata": {},
   "outputs": [],
   "source": [
    "S=input()\n",
    "if 1<=int(S[:2])<=12 and (13<=int(S[2:]) or int(S[2:])==0):\n",
    "    print(\"MMYY\")\n",
    "elif 1<=int(S[2:])<=12 and (13<=int(S[:2]) or int(S[:2])==0):\n",
    "    print(\"YYMM\")\n",
    "elif 1<=int(S[2:])<=12 and 1<=int(S[:2])<=12:\n",
    "    print(\"AMBIGUOUS\")\n",
    "elif (13<=int(S[2:]) or int(S[2:])==0) and (13<=int(S[:2]) or int(S[:])==0):\n",
    "    print(\"NA\")"
   ]
  }
 ],
 "metadata": {
  "kernelspec": {
   "display_name": "Python 3",
   "language": "python",
   "name": "python3"
  },
  "language_info": {
   "codemirror_mode": {
    "name": "ipython",
    "version": 3
   },
   "file_extension": ".py",
   "mimetype": "text/x-python",
   "name": "python",
   "nbconvert_exporter": "python",
   "pygments_lexer": "ipython3",
   "version": "3.7.1"
  }
 },
 "nbformat": 4,
 "nbformat_minor": 2
}
