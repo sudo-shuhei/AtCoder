{
 "cells": [
  {
   "cell_type": "code",
   "execution_count": null,
   "metadata": {},
   "outputs": [],
   "source": [
    "A=int(input())\n",
    "B=int(input())\n",
    "C=int(input())\n",
    "X=int(input())\n",
    "#x=X\n",
    "n=0\n",
    "for a in range(A+1):\n",
    "    X1=X-500*a #\n",
    "    for b in range(B+1):\n",
    "        X2=X1-100*b\n",
    "        for c in range(C+1):\n",
    "            X3=X2-50*c\n",
    "            if X3==0:\n",
    "                n+=1\n",
    "print(n)\n",
    "            \n",
    "                \n",
    "                "
   ]
  }
 ],
 "metadata": {
  "kernelspec": {
   "display_name": "Python 3",
   "language": "python",
   "name": "python3"
  },
  "language_info": {
   "codemirror_mode": {
    "name": "ipython",
    "version": 3
   },
   "file_extension": ".py",
   "mimetype": "text/x-python",
   "name": "python",
   "nbconvert_exporter": "python",
   "pygments_lexer": "ipython3",
   "version": "3.7.1"
  }
 },
 "nbformat": 4,
 "nbformat_minor": 2
}
