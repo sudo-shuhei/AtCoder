{
 "cells": [
  {
   "cell_type": "code",
   "execution_count": null,
   "metadata": {},
   "outputs": [],
   "source": [
    "N=int(input())\n",
    "V=list(map(int,input().split()))\n",
    "C=list(map(int,input().split()))\n",
    "A=[0]*N\n",
    "for i in range(len(V)):\n",
    "    for j in range(len(C)):\n",
    "        A[i]=V[i]-C[i]\n",
    "n=0\n",
    "for i in range(len(A)):\n",
    "    if A[i]>=0:\n",
    "        n+=A[i]\n",
    "print(n)\n"
   ]
  }
 ],
 "metadata": {
  "kernelspec": {
   "display_name": "Python 3",
   "language": "python",
   "name": "python3"
  },
  "language_info": {
   "codemirror_mode": {
    "name": "ipython",
    "version": 3
   },
   "file_extension": ".py",
   "mimetype": "text/x-python",
   "name": "python",
   "nbconvert_exporter": "python",
   "pygments_lexer": "ipython3",
   "version": "3.7.1"
  }
 },
 "nbformat": 4,
 "nbformat_minor": 2
}
