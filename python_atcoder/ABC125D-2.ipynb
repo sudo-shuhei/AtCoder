{
 "cells": [
  {
   "cell_type": "code",
   "execution_count": null,
   "metadata": {},
   "outputs": [],
   "source": [
    "N=int(input())\n",
    "A=list(map(int,input().split()))\n",
    "n=0\n",
    "for i in range(len(A)):\n",
    "    if A[i]<0:\n",
    "        n+=1\n",
    "if n%2==0:\n",
    "    ans=0\n",
    "    for i in range(len(A)):\n",
    "        ans+=abs(A[i])\n",
    "if n%2==1:\n",
    "    B=A\n",
    "    for i in range(len(A)):\n",
    "        B[i]=abs(A[i])\n",
    "    minn=min(B)\n",
    "    ans=0\n",
    "    for i in range(len(A)):\n",
    "        ans+=B[i]\n",
    "    ans-=2*minn\n",
    "print(ans) #AC\n",
    "    \n",
    "        "
   ]
  }
 ],
 "metadata": {
  "kernelspec": {
   "display_name": "Python 3",
   "language": "python",
   "name": "python3"
  },
  "language_info": {
   "codemirror_mode": {
    "name": "ipython",
    "version": 3
   },
   "file_extension": ".py",
   "mimetype": "text/x-python",
   "name": "python",
   "nbconvert_exporter": "python",
   "pygments_lexer": "ipython3",
   "version": "3.7.1"
  }
 },
 "nbformat": 4,
 "nbformat_minor": 2
}
