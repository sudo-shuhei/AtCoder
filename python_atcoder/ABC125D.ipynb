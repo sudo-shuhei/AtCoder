{
 "cells": [
  {
   "cell_type": "code",
   "execution_count": null,
   "metadata": {},
   "outputs": [],
   "source": [
    "N=int(input())\n",
    "A=list(map(int,input().split()))\n",
    "B=A\n",
    "for i in range(len(A)):\n",
    "    if A[i]>0:\n",
    "        pass\n",
    "    elif A[i]<0:\n",
    "        if A[i-1]<0 and A[i+1]>=0:\n",
    "            B[i-1]=-A[i-1]\n",
    "            B[i+1]=A[i+1]\n",
    "        elif A[i-1]>=0 and A[i+1]<0:\n",
    "            B[i-1]=A[i-1]\n",
    "            B[i+1]=-A[i+1]\n",
    "        elif A[i-1]>=0 and A[i+1]>=0:\n",
    "            if abs(A[i])<=abs(A[i-1]) and abs(A[i])<=abs(A[i+1]):\n",
    "                B[i-1]=A[i-1]\n",
    "                B[i]=A[i]\n",
    "                B[i+1]=A[i+1]\n",
    "            elif abs(A[i-1])<=abs(A[i]) and abs(A[i-1])<=abs(A[i+1]):\n",
    "                B[i-1]=-A[i-1]\n",
    "                B[i]=A[i]\n",
    "            else:\n",
    "                B[i]=A[i]\n",
    "                B[i+1]=-A[i+1]\n",
    "        else:\n",
    "            if abs(A[i-1])>=abs(A[i+1]):\n",
    "                B[i-1]=-A[i-1]\n",
    "            elif abs(A[i-1])<=abs(A[i+1]):\n",
    "                B[i+1]=-A[i+1]\n",
    "            \n",
    "        "
   ]
  }
 ],
 "metadata": {
  "kernelspec": {
   "display_name": "Python 3",
   "language": "python",
   "name": "python3"
  },
  "language_info": {
   "codemirror_mode": {
    "name": "ipython",
    "version": 3
   },
   "file_extension": ".py",
   "mimetype": "text/x-python",
   "name": "python",
   "nbconvert_exporter": "python",
   "pygments_lexer": "ipython3",
   "version": "3.7.1"
  }
 },
 "nbformat": 4,
 "nbformat_minor": 2
}
