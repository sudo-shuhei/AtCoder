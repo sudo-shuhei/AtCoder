{
 "cells": [
  {
   "cell_type": "code",
   "execution_count": null,
   "metadata": {},
   "outputs": [],
   "source": [
    "N,K=map(int,input().split())\n",
    "if N>K:\n",
    "    ans=(N-K+1)/N\n",
    "else:\n",
    "    ans=0\n",
    "for j in range(N):\n",
    "    l=j\n",
    "    m=0\n",
    "    if j==0:\n",
    "        pass\n",
    "    while l<K:\n",
    "        l=2*j\n",
    "        m+=1\n",
    "    else:\n",
    "        ans+=(1/N)*1/(2**m)\n",
    "print(ans)"
   ]
  }
 ],
 "metadata": {
  "kernelspec": {
   "display_name": "Python 3",
   "language": "python",
   "name": "python3"
  },
  "language_info": {
   "codemirror_mode": {
    "name": "ipython",
    "version": 3
   },
   "file_extension": ".py",
   "mimetype": "text/x-python",
   "name": "python",
   "nbconvert_exporter": "python",
   "pygments_lexer": "ipython3",
   "version": "3.7.1"
  }
 },
 "nbformat": 4,
 "nbformat_minor": 2
}
